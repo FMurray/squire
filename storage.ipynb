{
 "cells": [
  {
   "cell_type": "code",
   "execution_count": 1,
   "metadata": {},
   "outputs": [],
   "source": [
    "import sqlite3\n",
    "\n",
    "conn = sqlite3.connect('storage.db')\n",
    "c = conn.cursor()"
   ]
  },
  {
   "cell_type": "code",
   "execution_count": 6,
   "metadata": {},
   "outputs": [
    {
     "data": {
      "text/plain": [
       "[('logs',)]"
      ]
     },
     "execution_count": 6,
     "metadata": {},
     "output_type": "execute_result"
    }
   ],
   "source": [
    "c.execute(\"\"\"\n",
    "SELECT \n",
    "    name\n",
    "FROM \n",
    "    sqlite_schema\n",
    "WHERE \n",
    "    type ='table' AND \n",
    "    name NOT LIKE 'sqlite_%';\n",
    "    \"\"\")\n",
    "c.fetchall()"
   ]
  },
  {
   "cell_type": "code",
   "execution_count": 14,
   "metadata": {},
   "outputs": [
    {
     "data": {
      "text/plain": [
       "[('ca10a526-1c30-4bd8-bfbc-960e7207492c', None, None),\n",
       " ('f30fde87-c537-46d5-8379-79b50619bd2c', None, None),\n",
       " ('03d9601c-6312-4683-a583-179f760682bd', None, None),\n",
       " ('bea11b9b-157f-4c01-a2f9-9aa732efb7a0', None, None),\n",
       " ('5519dcff-0743-4c44-a7e6-657ea7951d50', None, None)]"
      ]
     },
     "execution_count": 14,
     "metadata": {},
     "output_type": "execute_result"
    }
   ],
   "source": [
    "c.execute(\"\"\"\n",
    "SELECT * FROM logs\n",
    "    \"\"\")\n",
    "c.fetchall()"
   ]
  },
  {
   "cell_type": "code",
   "execution_count": 11,
   "metadata": {},
   "outputs": [
    {
     "data": {
      "text/plain": [
       "[('CREATE TABLE logs (id INTEGER PRIMARY KEY, name TEXT, content TEXT, logs TEXT, raw_logs TEXT)',)]"
      ]
     },
     "execution_count": 11,
     "metadata": {},
     "output_type": "execute_result"
    }
   ],
   "source": [
    "c.execute(\"\"\"\n",
    "SELECT sql \n",
    "FROM sqlite_schema \n",
    "WHERE name = 'logs';\n",
    "\"\"\")\n",
    "c.fetchall()"
   ]
  },
  {
   "cell_type": "code",
   "execution_count": 12,
   "metadata": {},
   "outputs": [],
   "source": [
    "c.execute(\"\"\"\n",
    "DROP TABLE logs\n",
    "    \"\"\")\n",
    "conn.commit()"
   ]
  },
  {
   "cell_type": "code",
   "execution_count": null,
   "metadata": {},
   "outputs": [],
   "source": []
  }
 ],
 "metadata": {
  "kernelspec": {
   "display_name": "base",
   "language": "python",
   "name": "python3"
  },
  "language_info": {
   "codemirror_mode": {
    "name": "ipython",
    "version": 3
   },
   "file_extension": ".py",
   "mimetype": "text/x-python",
   "name": "python",
   "nbconvert_exporter": "python",
   "pygments_lexer": "ipython3",
   "version": "3.10.6"
  },
  "orig_nbformat": 4
 },
 "nbformat": 4,
 "nbformat_minor": 2
}
