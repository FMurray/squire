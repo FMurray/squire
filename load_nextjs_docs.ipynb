{
 "cells": [
  {
   "cell_type": "code",
   "execution_count": 2,
   "metadata": {},
   "outputs": [],
   "source": [
    "from langchain.document_loaders import WebBaseLoader"
   ]
  },
  {
   "cell_type": "code",
   "execution_count": 3,
   "metadata": {},
   "outputs": [],
   "source": [
    "njs_base_docs_url = \"https://nextjs.org/\""
   ]
  },
  {
   "cell_type": "code",
   "execution_count": 4,
   "metadata": {},
   "outputs": [],
   "source": [
    "import requests\n",
    "from bs4 import BeautifulSoup\n",
    "\n",
    "URL = \"https://nextjs.org/docs\"\n",
    "page = requests.get(URL)\n",
    "\n",
    "soup = BeautifulSoup(page.content, \"html.parser\")"
   ]
  },
  {
   "cell_type": "code",
   "execution_count": 5,
   "metadata": {},
   "outputs": [],
   "source": [
    "# find all links\n",
    "\n",
    "links = soup.find_all(\"a\")"
   ]
  },
  {
   "cell_type": "code",
   "execution_count": 6,
   "metadata": {},
   "outputs": [],
   "source": [
    "# filter to get only links with href to docs\n",
    "\n",
    "links = [link for link in links if link[\"href\"].startswith(\"/docs\")]"
   ]
  },
  {
   "cell_type": "code",
   "execution_count": 7,
   "metadata": {},
   "outputs": [
    {
     "data": {
      "text/plain": [
       "[Document(page_content='Next.js by Vercel - The React Framework for the WebDeploy Next.js on Vercel →Skip to contentNext.jsCopy Logo as SVG Copy Wordmark as SVGShowcaseDocsBlogAnalyticsTemplatesEnterpriseFeedbackEmailFeedbackSendLearnThe React Framework for the WebUsed by some of the world\\'s largest companies, Next.js enables you to create full-stack Web applications by extending the latest React features, and integrating powerful Rust-based JavaScript tooling for the fastest builds.Get StartedLearn Next.js▲ ~ npx create-next-app@latestWhat\\'s in Next.js?All the tools you need to make the Web. Faster.Built-in OptimizationsAutomatic Image, Font, and Script Optimizations for improved UX and Core Web Vitals.Data FetchingData Fetching methods that run on the server and enable you to render content in different ways.Node.js and Edge RuntimesBuild scalable solutions with Serverless functions, and deliver fast dynamic, personalized content with the Edge.Powerful Routing and LayoutsBuild complex interfaces and ship less JavaScript.Dynamic HTML StreamingDeliver content faster than ever before with HTML Streaming with Next.js & VercelCSS SupportCSS Modules, Sass, PostCSS, and CSS-in-JS.API RoutesBuild API endpoints to securely connect with third party services and consume from your frontend.MiddlewareAllowing you to run code before a request is completed — for authentication, A/B testing, and localization.React Server ComponentsServer-first. Layouts and Streaming with an intuitive file-system router.Client and Server RenderingFlexible rendering and caching options, including Incremental Static Regeneration (ISR), on a  per-page level.Next.js 13The power of full-stack to the frontend. Read the release notes.Built-in OptimizationsAutomatic Image, Font, and Script Optimizations for improved UX and Core Web Vitals.React Server ComponentsServer-first. Layouts and Streaming with an intuitive file-system router.Data FetchingData Fetching methods that run on the server and enable you to render content in different ways.Node.js and Edge RuntimesBuild scalable solutions with Serverless functions, and deliver fast dynamic, personalized content with the Edge.Powerful Routing and LayoutsBuild complex interfaces and ship less JavaScript.Dynamic HTML StreamingDeliver content faster than ever before with HTML Streaming with Next.js & VercelCSS SupportCSS Modules, Sass, PostCSS, and CSS-in-JS.API RoutesBuild API endpoints to securely connect with third party services and consume from your frontend.MiddlewareAllowing you to run code before a request is completed — for authentication, A/B testing, and localization.Client and Server RenderingFlexible rendering and caching options, including Incremental Static Regeneration (ISR), on a  per-page level.Next.js 13The power of full-stack to the frontend. Read the release notes.Built-in OptimizationsAutomatic Image, Font, and Script Optimizations for improved UX and Core Web Vitals.Dynamic HTML StreamingDeliver content faster than ever before with HTML Streaming with Next.js & VercelReact Server ComponentsServer-first. Layouts and Streaming with an intuitive file-system router.Data FetchingData Fetching methods that run on the server and enable you to render content in different ways.Node.js and Edge RuntimesBuild scalable solutions with Serverless functions, and deliver fast dynamic, personalized content with the Edge.Powerful Routing and LayoutsBuild complex interfaces and ship less JavaScript.CSS SupportCSS Modules, Sass, PostCSS, and CSS-in-JS.API RoutesBuild API endpoints to securely connect with third party services and consume from your frontend.MiddlewareAllowing you to run code before a request is completed — for authentication, A/B testing, and localization.Client and Server RenderingFlexible rendering and caching options, including Incremental Static Regeneration (ISR), on a  per-page level.Next.js 13The power of full-stack to the frontend. Read the release notes.Built on a foundation of fast,  production-grade toolingPowered ByReactA free and open-source front-end JavaScript library for building user interfaces based on components.TurbopackAn incremental bundler optimized for JavaScript and TypeScript, written in Rust , and built into Next.js 13.Speedy Web CompilerAn extensible Rust  based platform for the next generation of fast developer tools, and can be used for both compilation and bundling.Get started in secondsDeploy Next.js to VercelStarterEcommerceBlogAIEdge FunctionsEdge ConfigPortfolioSaaSMulti-tenant AppsRealtime AppsDocumentationVirtual EventWeb3Vercel is a platform from the founders of Next.js, making it a framework you can deploy easily.Jumpstart your Next.js development with  one of our pre-built solutions.Deploy a Template on VercelNext.js BoilerplateA Next.js app and a Serverless Function API.Image Gallery StarterAn image gallery built on Next.js and Cloudinary.Next.js CommerceAn all-in-one starter kit for high-performance e-commerce sites.The framework of choice  when it mattersAudibleSonosTwitchNotionTodayProductHuntNikeWashington PostSonosAudibleNikeNotionProductHuntWashington PostPeerless performance, efficiency and developer experience. Next.js is trusted by some of the biggest names on the Web.View the Next.js ShowcaseCustomer Testimonials“With Next.js at the helm of our headless tech stack, our developers can create features with velocity and speed, ultimately enabling users to create whatever, whenever they want to.”Tatiana Mac, Senior Software Engineer“My favorite UX feedback from customers is: \"How is the app so fast?\" Because we’ve built on Next.js and Vercel since day one, our pages load in an instant, which is important when it comes to mission-critical software.”Fouad Matin, CEO“Next.js has been a game-changer for our agency work and team collaboration. Its powerful features have allowed us to build high-performance websites quickly and efficiently like never before.”Daniel Lopes, Frontend DeveloperResourcesDocsLearnShowcaseBlogAnalyticsNext.js ConfPreviewsMoreCommerceContact SalesGitHubReleasesTelemetryAbout VercelNext.js + VercelOpen Source SoftwareGitHubTwitterLegalPrivacy PolicyCookie PreferencesSubscribe to our newsletterStay updated on new releases and features, guides, and case studies.SubscribeCopyright © 2023 Vercel, Inc. All rights reserved.', metadata={'source': 'https://nextjs.org/'})]"
      ]
     },
     "execution_count": 7,
     "metadata": {},
     "output_type": "execute_result"
    }
   ],
   "source": [
    "loader = WebBaseLoader(njs_base_docs_url)\n",
    "loader.load()"
   ]
  },
  {
   "cell_type": "code",
   "execution_count": 9,
   "metadata": {},
   "outputs": [
    {
     "name": "stdout",
     "output_type": "stream",
     "text": [
      "Requirement already satisfied: nest_asyncio in /Users/forrestmurray/mambaforge/lib/python3.10/site-packages (1.5.6)\n"
     ]
    }
   ],
   "source": [
    "!pip install nest_asyncio\n",
    "\n",
    "import nest_asyncio\n",
    "\n",
    "nest_asyncio.apply()"
   ]
  },
  {
   "cell_type": "code",
   "execution_count": 10,
   "metadata": {},
   "outputs": [],
   "source": [
    "loaders = [ \"https://nextjs.org\" + link[\"href\"] for link in links ]\n",
    "loader = WebBaseLoader(loaders)\n",
    "loader.request_per_second = 1\n",
    "docs = loader.aload()"
   ]
  },
  {
   "cell_type": "code",
   "execution_count": 14,
   "metadata": {},
   "outputs": [
    {
     "data": {
      "text/plain": [
       "'{\"page_content\": \"Getting Started | Next.jsDeploy Next.js on Vercel \\\\u2192Skip to contentNext.jsCopy Logo as SVG Copy Wordmark as SVGShowcaseDocsBlogAnalyticsTemplatesEnterpriseFeedbackEmailFeedbackSendLearnMenuDocumentationGetting StartedBasic FeaturesPagesData FetchingOverviewgetServerSidePropsgetStaticPropsgetStaticPathsIncremental Static RegenerationClient sideBuilt-in CSS SupportLayoutsImage OptimizationFont OptimizationStatic File ServingFast RefreshESLintTypeScriptEnvironment VariablesSupported Browsers and FeaturesHandling ScriptsRoutingIntroductionDynamic RoutesImperativelyShallow RoutingAPI RoutesIntroductionDynamic API RoutesRequest HelpersResponse HelpersEdge API RoutesGoing to ProductionDeploymentAuthenticationTestingAccessibilityGuidesBuilding FormsAdvanced FeaturesNext.js CompilerTurbopackPreview ModeDynamic ImportAutomatic Static OptimizationStatic HTML ExportAbsolute Imports and Module Path AliasesUsing MDXAMP SupportIntroductionAdding AMP ComponentsAMP ValidationAMP in Static HTML exportTypeScriptCustomizing Babel ConfigCustomizing PostCSS ConfigCustom ServerCustom `App`Custom `Document`Custom Error Page`src` DirectoryCI Build CachingMulti ZonesMeasuring performanceMiddlewareDebuggingError HandlingSource MapsCodemodsInternationalized RoutingOutput File TracingInstrumentationOpen TelemetrySecurity HeadersReact 18OverviewStreaming SSRReact Server ComponentsSwitchable RuntimeUpgrade GuideMigrating to Next.jsIncrementally Adopting Next.jsMigrating from GatsbyMigrating from Create React AppMigrating from React RouterFAQAPI ReferenceCLICreate Next Appnext/routernext/linknext/imagenext/scriptnext/headnext/ampnext/servernext/fontnext/legacy/imageEdge RuntimeData FetchinggetInitialPropsgetServerSidePropsgetStaticPathsgetStaticPropsStatic Optimization Indicatornext.config.jsIntroductionEnvironment VariablesBase PathRewritesRedirectsCustom HeadersCustom Page ExtensionsCDN Support with Asset PrefixCustom Image Loader ConfigCustom Webpack ConfigCompressionRuntime ConfigurationDisabling x-powered-byDisabling ETag GenerationDisabling HTTP Keep-AliveSetting a custom build directoryConfiguring the Build IDConfiguring onDemandEntriesIgnoring ESLintIgnoring TypeScript ErrorsexportPathMapTrailing SlashReact Strict ModeURL ImportsBuild indicatorTurbopack-specific optionsDocumentationGetting StartedBasic FeaturesPagesData FetchingOverviewgetServerSidePropsgetStaticPropsgetStaticPathsIncremental Static RegenerationClient sideBuilt-in CSS SupportLayoutsImage OptimizationFont OptimizationStatic File ServingFast RefreshESLintTypeScriptEnvironment VariablesSupported Browsers and FeaturesHandling ScriptsRoutingIntroductionDynamic RoutesImperativelyShallow RoutingAPI RoutesIntroductionDynamic API RoutesRequest HelpersResponse HelpersEdge API RoutesGoing to ProductionDeploymentAuthenticationTestingAccessibilityGuidesBuilding FormsAdvanced FeaturesNext.js CompilerTurbopackPreview ModeDynamic ImportAutomatic Static OptimizationStatic HTML ExportAbsolute Imports and Module Path AliasesUsing MDXAMP SupportIntroductionAdding AMP ComponentsAMP ValidationAMP in Static HTML exportTypeScriptCustomizing Babel ConfigCustomizing PostCSS ConfigCustom ServerCustom `App`Custom `Document`Custom Error Page`src` DirectoryCI Build CachingMulti ZonesMeasuring performanceMiddlewareDebuggingError HandlingSource MapsCodemodsInternationalized RoutingOutput File TracingInstrumentationOpen TelemetrySecurity HeadersReact 18OverviewStreaming SSRReact Server ComponentsSwitchable RuntimeUpgrade GuideMigrating to Next.jsIncrementally Adopting Next.jsMigrating from GatsbyMigrating from Create React AppMigrating from React RouterFAQAPI ReferenceCLICreate Next Appnext/routernext/linknext/imagenext/scriptnext/headnext/ampnext/servernext/fontnext/legacy/imageEdge RuntimeData FetchinggetInitialPropsgetServerSidePropsgetStaticPathsgetStaticPropsStatic Optimization Indicatornext.config.jsIntroductionEnvironment VariablesBase PathRewritesRedirectsCustom HeadersCustom Page ExtensionsCDN Support with Asset PrefixCustom Image Loader ConfigCustom Webpack ConfigCompressionRuntime ConfigurationDisabling x-powered-byDisabling ETag GenerationDisabling HTTP Keep-AliveSetting a custom build directoryConfiguring the Build IDConfiguring onDemandEntriesIgnoring ESLintIgnoring TypeScript ErrorsexportPathMapTrailing SlashReact Strict ModeURL ImportsBuild indicatorTurbopack-specific options\\\\nNext.js 13 was recently released, learn more and see the upgrade guide. Version 13 also introduces beta features like the app directory that works alongside the pages directory (stable) for incremental adoption. You can continue using pages in Next.js 13, but if you want to try the new app features, see the new beta docs.\\\\n\\\\nGetting Started\\\\nWelcome to the Next.js documentation!\\\\nIf you\\'re new to Next.js, we recommend starting with the learn course. The interactive course with quizzes will guide you through everything you need to know to use Next.js.\\\\nIf you have questions about anything related to Next.js, you\\'re always welcome to ask our community on GitHub Discussions.\\\\nSystem Requirements\\\\n\\\\n\\\\n\\\\n\\\\n\\\\n\\\\nNode.js 14.6.0 or newer\\\\nMacOS, Windows (including WSL), and Linux are supported\\\\n\\\\nAutomatic Setup\\\\n\\\\n\\\\n\\\\n\\\\n\\\\nWe recommend creating a new Next.js app using create-next-app, which sets up everything automatically for you. (You don\\'t need to create an empty directory. create-next-app will make one for you.) To create a project, run:\\\\nnpx create-next-app@latest\\\\n# or\\\\nyarn create next-app\\\\n# or\\\\npnpm create next-app\\\\n\\\\nIf you want to start with a TypeScript project you can use the --typescript flag:\\\\nnpx create-next-app@latest --typescript\\\\n# or\\\\nyarn create next-app --typescript\\\\n# or\\\\npnpm create next-app --typescript\\\\n\\\\nAfter the installation is complete:\\\\n\\\\nRun npm run dev or yarn dev or pnpm dev to start the development server on http://localhost:3000\\\\nVisit http://localhost:3000 to view your application\\\\nEdit pages/index.js and see the updated result in your browser\\\\n\\\\nFor more information on how to use create-next-app, you can review the create-next-app documentation.\\\\nManual Setup\\\\n\\\\n\\\\n\\\\n\\\\n\\\\nInstall next, react and react-dom in your project:\\\\nnpm install next react react-dom\\\\n# or\\\\nyarn add next react react-dom\\\\n# or\\\\npnpm add next react react-dom\\\\n\\\\nOpen package.json and add the following scripts:\\\\n\\\\\"scripts\\\\\": {\\\\n  \\\\\"dev\\\\\": \\\\\"next dev\\\\\",\\\\n  \\\\\"build\\\\\": \\\\\"next build\\\\\",\\\\n  \\\\\"start\\\\\": \\\\\"next start\\\\\",\\\\n  \\\\\"lint\\\\\": \\\\\"next lint\\\\\"\\\\n}\\\\n\\\\nThese scripts refer to the different stages of developing an application:\\\\n\\\\ndev - Runs next dev to start Next.js in development mode\\\\nbuild - Runs next build to build the application for production usage\\\\nstart - Runs next start to start a Next.js production server\\\\nlint - Runs next lint to set up Next.js\\' built-in ESLint configuration\\\\n\\\\nCreate two directories pages and public at the root of your application:\\\\n\\\\npages - Associated with a route based on their file name. For example, pages/about.js is mapped to /about\\\\npublic - Stores static assets such as images, fonts, etc. Files inside public directory can then be referenced by your code starting from the base URL (/).\\\\n\\\\nNext.js is built around the concept of pages. A page is a React Component exported from a .js, .jsx, .ts, or .tsx file in the pages directory. You can even add dynamic route parameters with the filename.\\\\nInside the pages directory, add the index.js file to get started. This is the page that is rendered when the user visits the root of your application.\\\\nPopulate pages/index.js with the following contents:\\\\nfunction HomePage() {\\\\n  return <div>Welcome to Next.js!</div>\\\\n}\\\\n\\\\nexport default HomePage\\\\n\\\\nAfter the set up is complete:\\\\n\\\\nRun npm run dev or yarn dev or pnpm dev to start the development server on http://localhost:3000\\\\nVisit http://localhost:3000 to view your application\\\\nEdit pages/index.js and see the updated result in your browser\\\\n\\\\nSo far, we get:\\\\n\\\\nAutomatic compilation and bundling\\\\nReact Fast Refresh\\\\nStatic generation and server-side rendering of pages/\\\\nStatic file serving through public/ which is mapped to the base URL (/)\\\\n\\\\nIn addition, any Next.js application is ready for production from the start. Read more in our Deployment documentation.\\\\nRelated\\\\n\\\\n\\\\n\\\\n\\\\n\\\\nFor more information on what to do next, we recommend the following sections:\\\\n\\\\nPagesLearn more about what pages are in Next.js.\\\\n\\\\n\\\\nCSS SupportBuilt-in CSS support to add custom styles to your app.\\\\n\\\\n\\\\nCLILearn more about the Next.js CLI.\\\\nBasic Features: PagesWas this helpful?EmailFeedbackSendEdit this page on GitHub\", \"metadata\": {\"source\": \"https://nextjs.org/docs/getting-started\"}}'"
      ]
     },
     "execution_count": 14,
     "metadata": {},
     "output_type": "execute_result"
    }
   ],
   "source": [
    "# dir(docs[0])\n",
    "docs[0].json()\n"
   ]
  },
  {
   "cell_type": "code",
   "execution_count": 60,
   "metadata": {},
   "outputs": [],
   "source": [
    "from langchain.text_splitter import CharacterTextSplitter\n",
    "text_splitter = CharacterTextSplitter(chunk_size=1000, chunk_overlap=0)\n",
    "texts = text_splitter.split_documents(docs)"
   ]
  },
  {
   "cell_type": "code",
   "execution_count": 63,
   "metadata": {},
   "outputs": [],
   "source": [
    "from langchain.embeddings import OpenAIEmbeddings\n",
    "embeddings = OpenAIEmbeddings()"
   ]
  },
  {
   "cell_type": "code",
   "execution_count": 65,
   "metadata": {},
   "outputs": [
    {
     "name": "stdout",
     "output_type": "stream",
     "text": [
      "Running Chroma using direct local API.\n",
      "Using DuckDB in-memory for database. Data will be transient.\n",
      "Exiting: Cleaning up .chroma directory\n"
     ]
    }
   ],
   "source": [
    "from langchain.vectorstores import Chroma\n",
    "db = Chroma.from_documents(texts, embeddings)"
   ]
  },
  {
   "cell_type": "code",
   "execution_count": 76,
   "metadata": {},
   "outputs": [
    {
     "data": {
      "text/plain": [
       "[Document(page_content='Gatsby: createPages API inside gatsby-node.js for each blog post, then have a template file at src/templates/blog-post.js.\\nNext: Create pages/blog/[slug].js which contains the blog post template. The value of slug is accessible through a query parameter. For example, the route /blog/first-post would forward the query object { \\'slug\\': \\'first-post\\' } to pages/blog/[slug].js (learn more here).\\n\\nStyling\\n\\n\\n\\n\\n\\nWith Gatsby, global CSS imports are included in gatsby-browser.js. With Next, you should create a custom _app.js for global CSS. When migrating, you can copy over your CSS imports directly and update the relative file path, if necessary. Next.js has built-in CSS support.\\nLinks\\n\\n\\n\\n\\n\\nThe Gatsby Link and Next.js Link component have a slightly different API.\\n// Gatsby\\n\\nimport { Link } from \\'gatsby\\'\\n\\nexport default function Home() {\\n  return <Link to=\"/blog\">blog</Link>\\n}\\n\\n// Next.js\\n\\nimport Link from \\'next/link\\'\\n\\nexport default function Home() {\\n  return <Link href=\"/blog\">blog</Link>\\n}', metadata={'source': 'https://nextjs.org/docs/migrating/from-gatsby'}),\n",
       " Document(page_content='For more information on what to do next, we recommend the following sections:\\n\\nPagesLearn more about what pages are in Next.js.\\n\\n\\nCSS SupportUse the built-in CSS support to add custom styles to your app.\\n\\n\\nCLILearn more about the Next.js CLI.\\nCLInext/routerWas this helpful?EmailFeedbackSendEdit this page on GitHub', metadata={'source': 'https://nextjs.org/docs/api-reference/create-next-app'}),\n",
       " Document(page_content=\"// pages/_app.js\\nimport variables from '../styles/variables.module.scss'\\n\\nexport default function MyApp({ Component, pageProps }) {\\n  return (\\n    <Layout color={variables.primaryColor}>\\n      <Component {...pageProps} />\\n    </Layout>\\n  )\\n}\\n\\nCSS-in-JS\\n\\n\\n\\n\\n\\n\\nExamples\\n\\nStyled JSX\\nStyled Components\\nEmotion\\nLinaria\\nTailwind CSS + Emotion\\nStyletron\\nCxs\\nAphrodite\\nFela\\nStitches\\n\\n\\nIt's possible to use any existing CSS-in-JS solution.\\nThe simplest one is inline styles:\\nfunction HiThere() {\\n  return <p style={{ color: 'red' }}>hi there</p>\\n}\\n\\nexport default HiThere\", metadata={'source': 'https://nextjs.org/docs/basic-features/built-in-css-support'})]"
      ]
     },
     "execution_count": 76,
     "metadata": {},
     "output_type": "execute_result"
    }
   ],
   "source": [
    "db.max_marginal_relevance_search(\"create a  and CSS\", k=3)"
   ]
  },
  {
   "cell_type": "code",
   "execution_count": 47,
   "metadata": {},
   "outputs": [
    {
     "name": "stdout",
     "output_type": "stream",
     "text": [
      "Running Chroma using direct local API.\n",
      "Using DuckDB in-memory for database. Data will be transient.\n"
     ]
    }
   ],
   "source": [
    "from langchain.indexes import VectorstoreIndexCreator\n",
    "index = VectorstoreIndexCreator().from_loaders(loaders)"
   ]
  },
  {
   "cell_type": "code",
   "execution_count": 49,
   "metadata": {},
   "outputs": [
    {
     "data": {
      "text/plain": [
       "<langchain.vectorstores.chroma.Chroma at 0x17feb4040>"
      ]
     },
     "execution_count": 49,
     "metadata": {},
     "output_type": "execute_result"
    }
   ],
   "source": [
    "index.vectorstore"
   ]
  },
  {
   "cell_type": "code",
   "execution_count": 40,
   "metadata": {},
   "outputs": [
    {
     "name": "stderr",
     "output_type": "stream",
     "text": [
      "/Users/forrestmurray/mambaforge/lib/python3.10/site-packages/langchain/llms/openai.py:169: UserWarning: You are trying to use a chat model. This way of initializing it is no longer supported. Instead, please use: `from langchain.chat_models import ChatOpenAI`\n",
      "  warnings.warn(\n",
      "/Users/forrestmurray/mambaforge/lib/python3.10/site-packages/langchain/llms/openai.py:608: UserWarning: You are trying to use a chat model. This way of initializing it is no longer supported. Instead, please use: `from langchain.chat_models import ChatOpenAI`\n",
      "  warnings.warn(\n"
     ]
    }
   ],
   "source": [
    "from langchain.chains.question_answering import load_qa_chain\n",
    "from langchain.llms import OpenAI\n",
    "from langchain.chains import RetrievalQA\n",
    "\n",
    "llm = OpenAI(temperature=0.5, model_name=\"gpt-4\")\n",
    "db = index.vectorstore.as_retriever(search_kwargs={\"k\": 3})\n",
    "\n",
    "docs = db.get_relevant_documents(\"\"\"\n",
    "Create a new page component.\n",
    "\"\"\")\n",
    "docs2 = db.get_relevant_documents(\"\"\"\n",
    "Create CSS for a page component.\n",
    "\"\"\")\n",
    "docs3 = db.get_relevant_documents(\"\"\"\n",
    "Create a dynamic API route.\n",
    "\"\"\")\n",
    "\n",
    "# llm = OpenAI(temperature=\"0.5\", model_name=\"gpt-4\")\n",
    "# chain = load_qa_chain(llm, chain_type=\"stuff\")\n",
    "# chain.run(input_documents=docs, question=query)"
   ]
  }
 ],
 "metadata": {
  "kernelspec": {
   "display_name": "base",
   "language": "python",
   "name": "python3"
  },
  "language_info": {
   "codemirror_mode": {
    "name": "ipython",
    "version": 3
   },
   "file_extension": ".py",
   "mimetype": "text/x-python",
   "name": "python",
   "nbconvert_exporter": "python",
   "pygments_lexer": "ipython3",
   "version": "3.10.6"
  },
  "orig_nbformat": 4
 },
 "nbformat": 4,
 "nbformat_minor": 2
}
